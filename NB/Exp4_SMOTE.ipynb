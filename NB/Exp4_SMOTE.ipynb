{
  "nbformat": 4,
  "nbformat_minor": 0,
  "metadata": {
    "colab": {
      "provenance": []
    },
    "kernelspec": {
      "name": "python3",
      "display_name": "Python 3"
    },
    "language_info": {
      "name": "python"
    }
  },
  "cells": [
    {
      "cell_type": "code",
      "execution_count": 1,
      "metadata": {
        "colab": {
          "base_uri": "https://localhost:8080/"
        },
        "id": "IoC0gEn6A3xH",
        "outputId": "be9c354d-483e-4b99-809b-9faa5f514b58"
      },
      "outputs": [
        {
          "output_type": "stream",
          "name": "stdout",
          "text": [
            "Class distribution before SMOTE: 0    900\n",
            "1    100\n",
            "Name: count, dtype: int64\n",
            "Class distribution after SMOTE: 0    630\n",
            "1    630\n",
            "Name: count, dtype: int64\n",
            "\n",
            "Classification Report on Test Data:\n",
            "              precision    recall  f1-score   support\n",
            "\n",
            "           0       0.99      0.99      0.99       270\n",
            "           1       0.93      0.93      0.93        30\n",
            "\n",
            "    accuracy                           0.99       300\n",
            "   macro avg       0.96      0.96      0.96       300\n",
            "weighted avg       0.99      0.99      0.99       300\n",
            "\n",
            "Accuracy Score: 0.9866666666666667\n"
          ]
        }
      ],
      "source": [
        "# ✅ Step 1: Import libraries\n",
        "import pandas as pd\n",
        "import numpy as np\n",
        "from imblearn.over_sampling import SMOTE\n",
        "from sklearn.datasets import make_classification\n",
        "from sklearn.model_selection import train_test_split\n",
        "from sklearn.ensemble import RandomForestClassifier\n",
        "from sklearn.metrics import classification_report, accuracy_score\n",
        "\n",
        "# ✅ Step 2: Generate synthetic imbalanced dataset\n",
        "# We'll use make_classification to simulate an imbalanced dataset\n",
        "X, y = make_classification(n_samples=1000, n_features=20, n_informative=2,\n",
        "                           n_clusters_per_class=1, weights=[0.9, 0.1], flip_y=0, random_state=42)\n",
        "\n",
        "# Show class distribution before SMOTE\n",
        "print(\"Class distribution before SMOTE:\", pd.Series(y).value_counts())\n",
        "\n",
        "# ✅ Step 3: Split dataset into training and testing sets\n",
        "X_train, X_test, y_train, y_test = train_test_split(X, y, test_size=0.3, random_state=42)\n",
        "\n",
        "# ✅ Step 4: Apply SMOTE to balance the class distribution\n",
        "smote = SMOTE(random_state=42)\n",
        "X_train_res, y_train_res = smote.fit_resample(X_train, y_train)\n",
        "\n",
        "# Show class distribution after SMOTE\n",
        "print(\"Class distribution after SMOTE:\", pd.Series(y_train_res).value_counts())\n",
        "\n",
        "# ✅ Step 5: Train a classifier (Random Forest) on the resampled data\n",
        "clf = RandomForestClassifier(n_estimators=100, random_state=42)\n",
        "clf.fit(X_train_res, y_train_res)\n",
        "\n",
        "# ✅ Step 6: Evaluate the model\n",
        "y_pred = clf.predict(X_test)\n",
        "print(\"\\nClassification Report on Test Data:\")\n",
        "print(classification_report(y_test, y_pred))\n",
        "print(\"Accuracy Score:\", accuracy_score(y_test, y_pred))\n"
      ]
    }
  ]
}