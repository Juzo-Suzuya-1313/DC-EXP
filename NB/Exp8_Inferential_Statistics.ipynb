{
  "nbformat": 4,
  "nbformat_minor": 0,
  "metadata": {
    "colab": {
      "provenance": []
    },
    "kernelspec": {
      "name": "python3",
      "display_name": "Python 3"
    },
    "language_info": {
      "name": "python"
    }
  },
  "cells": [
    {
      "cell_type": "code",
      "execution_count": 1,
      "metadata": {
        "colab": {
          "base_uri": "https://localhost:8080/"
        },
        "id": "iEXPOMi4L2_k",
        "outputId": "da8414f8-265e-428e-d3b4-1d938ea556f8"
      },
      "outputs": [
        {
          "output_type": "stream",
          "name": "stdout",
          "text": [
            "95% Confidence Interval for Sepal Length: (np.float64(5.709732481507366), np.float64(5.976934185159301))\n"
          ]
        }
      ],
      "source": [
        "import numpy as np\n",
        "from scipy import stats\n",
        "from sklearn.datasets import load_iris\n",
        "\n",
        "# Load dataset\n",
        "data = load_iris()\n",
        "sepal_lengths = data.data[:, 0]\n",
        "\n",
        "# Calculate confidence interval\n",
        "mean = np.mean(sepal_lengths)\n",
        "sem = stats.sem(sepal_lengths)  # standard error of the mean\n",
        "conf_interval = stats.t.interval(0.95, len(sepal_lengths)-1, loc=mean, scale=sem)\n",
        "\n",
        "print(f\"95% Confidence Interval for Sepal Length: {conf_interval}\")\n"
      ]
    },
    {
      "cell_type": "code",
      "source": [
        "import pandas as pd\n",
        "\n",
        "# Prepare DataFrame\n",
        "df = pd.DataFrame(data.data, columns=data.feature_names)\n",
        "df['target'] = data.target\n",
        "\n",
        "# Extract samples\n",
        "setosa = df[df['target'] == 0]['sepal length (cm)']\n",
        "virginica = df[df['target'] == 2]['sepal length (cm)']\n",
        "\n",
        "# Perform t-test\n",
        "t_stat, p_val = stats.ttest_ind(setosa, virginica)\n",
        "print(f\"T-statistic: {t_stat}, P-value: {p_val}\")\n",
        "\n",
        "# Interpretation\n",
        "if p_val < 0.05:\n",
        "    print(\"Reject null hypothesis: Significant difference in means\")\n",
        "else:\n",
        "    print(\"Fail to reject null hypothesis: No significant difference\")\n"
      ],
      "metadata": {
        "colab": {
          "base_uri": "https://localhost:8080/"
        },
        "id": "mYhXnCDNMC-I",
        "outputId": "4328ce43-6d5d-4d51-9a58-f1f10f5b2ccb"
      },
      "execution_count": 2,
      "outputs": [
        {
          "output_type": "stream",
          "name": "stdout",
          "text": [
            "T-statistic: -15.386195820079404, P-value: 6.892546060674059e-28\n",
            "Reject null hypothesis: Significant difference in means\n"
          ]
        }
      ]
    }
  ]
}