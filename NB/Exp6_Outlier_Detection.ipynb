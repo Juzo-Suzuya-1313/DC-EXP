{
  "nbformat": 4,
  "nbformat_minor": 0,
  "metadata": {
    "colab": {
      "provenance": []
    },
    "kernelspec": {
      "name": "python3",
      "display_name": "Python 3"
    },
    "language_info": {
      "name": "python"
    }
  },
  "cells": [
    {
      "cell_type": "code",
      "execution_count": 1,
      "metadata": {
        "colab": {
          "base_uri": "https://localhost:8080/"
        },
        "id": "lWLJWFjAHjIf",
        "outputId": "29724b8d-423e-406d-a04c-71e3e477dac7"
      },
      "outputs": [
        {
          "output_type": "stream",
          "name": "stdout",
          "text": [
            "    value   z_score  outlier\n",
            "0      10 -0.391467    False\n",
            "1      12 -0.302680    False\n",
            "2      11 -0.347073    False\n",
            "3      13 -0.258287    False\n",
            "4      12 -0.302680    False\n",
            "5      11 -0.347073    False\n",
            "6      90  3.159982     True\n",
            "7      12 -0.302680    False\n",
            "8      13 -0.258287    False\n",
            "9      11 -0.347073    False\n",
            "10     12 -0.302680    False\n"
          ]
        }
      ],
      "source": [
        "import numpy as np\n",
        "import pandas as pd\n",
        "from scipy.stats import zscore\n",
        "\n",
        "# Sample dataset\n",
        "data = {'value': [10, 12, 11, 13, 12, 11, 90, 12, 13, 11, 12]}\n",
        "df = pd.DataFrame(data)\n",
        "\n",
        "# Z-score calculation\n",
        "df['z_score'] = zscore(df['value'])\n",
        "\n",
        "# Identify outliers (|z| > 3)\n",
        "df['outlier'] = df['z_score'].abs() > 3\n",
        "print(df)\n"
      ]
    },
    {
      "cell_type": "code",
      "source": [
        "from sklearn.datasets import make_blobs\n",
        "from sklearn.cluster import DBSCAN\n",
        "\n",
        "# Generate data\n",
        "X, _ = make_blobs(n_samples=100, centers=1, cluster_std=0.5, random_state=0)\n",
        "X = np.append(X, [[8, 8], [9, 9]], axis=0)  # Add outliers\n",
        "\n",
        "# Apply DBSCAN\n",
        "db = DBSCAN(eps=0.8, min_samples=5).fit(X)\n",
        "\n",
        "# -1 label indicates outliers\n",
        "outliers = X[db.labels_ == -1]\n",
        "print(\"Detected outliers:\\n\", outliers)\n"
      ],
      "metadata": {
        "colab": {
          "base_uri": "https://localhost:8080/"
        },
        "id": "gktJy-KjH4YF",
        "outputId": "9d1442ae-90e6-49b1-f697-88e28a984908"
      },
      "execution_count": 2,
      "outputs": [
        {
          "output_type": "stream",
          "name": "stdout",
          "text": [
            "Detected outliers:\n",
            " [[8. 8.]\n",
            " [9. 9.]]\n"
          ]
        }
      ]
    }
  ]
}